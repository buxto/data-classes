{
 "cells": [
  {
   "cell_type": "code",
   "execution_count": 2,
   "id": "255ba5ef",
   "metadata": {},
   "outputs": [],
   "source": [
    "from dataclasses import dataclass, field\n",
    "from datetime import datetime, timezone"
   ]
  },
  {
   "cell_type": "code",
   "execution_count": 6,
   "id": "23ee2645",
   "metadata": {},
   "outputs": [],
   "source": [
    "@dataclass\n",
    "class Orders:\n",
    "    id: int\n",
    "    OrderDate: datetime\n",
    "    ExpectedDeliveryDate: datetime\n",
    "    CustomerPON: str\n",
    "    IsUndersupplyBO: bool\n",
    "    Comments: str\n",
    "    DeliveryInstructions: str\n",
    "    InternalComments: str\n",
    "    PickingCompletedWhen: datetime\n",
    "    \n",
    "    def __gt__(self, other):\n",
    "        return self.OrderDate > other.OrderDate\n",
    "    def __ge__(self, other):\n",
    "        return self.OrderDate >= other.OrderDate"
   ]
  },
  {
   "cell_type": "code",
   "execution_count": 7,
   "id": "869ec83a",
   "metadata": {},
   "outputs": [],
   "source": [
    "@dataclass\n",
    "class Invoices:\n",
    "    id: int\n",
    "    InvoiceDate: datetime\n",
    "    CustomerPON: str\n",
    "    IsCreditNote: bool\n",
    "    CreditNoteReason: str\n",
    "    Comments: str\n",
    "    DeliveryInstructions: str\n",
    "    InternalComments: str\n",
    "    TotalDryItems: int\n",
    "    TotalChillerItems: int\n",
    "    DeliveryRun: str\n",
    "    RunPosition: str\n",
    "    ReturnedDeliveryData: str\n",
    "    ConfirmedDeliveryTime: datetime\n",
    "    ConfirmedReceivedBy: str\n",
    "    \n",
    "    def __gt__(self, other):\n",
    "        return self.OrderDate > other.OrderDate\n",
    "    def __ge__(self, other):\n",
    "        return self.OrderDate >= other.OrderDate"
   ]
  },
  {
   "cell_type": "code",
   "execution_count": 5,
   "id": "083a613f",
   "metadata": {},
   "outputs": [],
   "source": [
    "@dataclass\n",
    "class Customers:\n",
    "    id: int\n",
    "    CustomerName: str\n",
    "    CreditLimit: float\n",
    "    AccountOpenedDate: datetime\n",
    "    StandardDiscountP: float\n",
    "    IsStatementSent: bool\n",
    "    IsOnCreditHold: bool\n",
    "    PaymentDays: int\n",
    "    PhoneNumber: str\n",
    "    FaxNumber: str\n",
    "    DeliveryRun: str\n",
    "    RunPosition: str\n",
    "    URL: str\n",
    "    DeliveryAddressLine1: str\n",
    "    DeliveryAddressLine2: str\n",
    "    DeliveryPostalCode: str\n",
    "    DeliveryLocation: list\n",
    "    PostalAddressLine1: str\n",
    "    PostalAddressLine2: str\n",
    "    PostalPostalCode: str\n",
    "    "
   ]
  },
  {
   "cell_type": "code",
   "execution_count": null,
   "id": "a585487a",
   "metadata": {},
   "outputs": [],
   "source": []
  }
 ],
 "metadata": {
  "kernelspec": {
   "display_name": "Python 3 (ipykernel)",
   "language": "python",
   "name": "python3"
  },
  "language_info": {
   "codemirror_mode": {
    "name": "ipython",
    "version": 3
   },
   "file_extension": ".py",
   "mimetype": "text/x-python",
   "name": "python",
   "nbconvert_exporter": "python",
   "pygments_lexer": "ipython3",
   "version": "3.9.7"
  }
 },
 "nbformat": 4,
 "nbformat_minor": 5
}
